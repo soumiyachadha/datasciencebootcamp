{
  "nbformat": 4,
  "nbformat_minor": 0,
  "metadata": {
    "colab": {
      "provenance": []
    },
    "kernelspec": {
      "name": "python3",
      "display_name": "Python 3"
    },
    "language_info": {
      "name": "python"
    }
  },
  "cells": [
    {
      "cell_type": "code",
      "execution_count": 13,
      "metadata": {
        "colab": {
          "base_uri": "https://localhost:8080/"
        },
        "id": "Gb6YCBP9GtGS",
        "outputId": "8f552358-cc47-4fef-beb6-72b881774406"
      },
      "outputs": [
        {
          "output_type": "stream",
          "name": "stdout",
          "text": [
            "[[1 2]\n",
            " [3 4]\n",
            " [5 6]\n",
            " [8 9]]\n",
            "[[1 2 5 6]\n",
            " [3 4 8 9]]\n"
          ]
        }
      ],
      "source": [
        "import numpy as np\n",
        "\n",
        "A = np.array([[1,2], [3,4]])\n",
        "B = np.array([[5,6],[8,9]])\n",
        "\n",
        "v_stack = np.vstack((A, B))\n",
        "h_stack = np.hstack((A,B))\n",
        "\n",
        "print(v_stack)\n",
        "print(h_stack)"
      ]
    },
    {
      "cell_type": "code",
      "source": [
        "import numpy as np\n",
        "\n",
        "A = np.array([[1,2], [3,4], [7,8]])\n",
        "B = np.array([[5,6],[8,9], [7,8]])\n",
        "\n",
        "common_elements = np.intersect1d(A, B)\n",
        "\n",
        "print(common_elements)"
      ],
      "metadata": {
        "colab": {
          "base_uri": "https://localhost:8080/"
        },
        "id": "7zFUn7JCH9ns",
        "outputId": "1bc848b6-a2ba-497c-f14a-24f434f0e716"
      },
      "execution_count": 16,
      "outputs": [
        {
          "output_type": "stream",
          "name": "stdout",
          "text": [
            "[7 8]\n"
          ]
        }
      ]
    },
    {
      "cell_type": "code",
      "source": [
        "import numpy as np\n",
        "\n",
        "A = np.array([1,2,3,4,5,6,7,8,9,10])\n",
        "\n",
        "lb = 5\n",
        "ub = 10\n",
        "\n",
        "num_within_range = A[(A >= lb) & (A <= ub)]\n",
        "\n",
        "print(num_within_range)"
      ],
      "metadata": {
        "colab": {
          "base_uri": "https://localhost:8080/"
        },
        "id": "m1Ir6CXDKvKd",
        "outputId": "81b1b1a3-63b8-4433-b90a-7514c733ef2a"
      },
      "execution_count": 17,
      "outputs": [
        {
          "output_type": "stream",
          "name": "stdout",
          "text": [
            "[ 5  6  7  8  9 10]\n"
          ]
        }
      ]
    },
    {
      "cell_type": "code",
      "source": [
        "import pandas as pd\n",
        "\n",
        "df = pd.read_csv('https://raw.githubusercontent.com/selva86/datasets/master/Cars93_miss.csv')\n",
        "\n",
        "column = ['Manufacturer', 'Model', 'Type']\n",
        "filter_df= df.loc[::20, column]\n",
        "\n",
        "print(filter_df)"
      ],
      "metadata": {
        "id": "prGzivbIOXk1",
        "outputId": "66b6fec7-e2dd-43a9-a108-fd835d5211fd",
        "colab": {
          "base_uri": "https://localhost:8080/"
        }
      },
      "execution_count": 23,
      "outputs": [
        {
          "output_type": "stream",
          "name": "stdout",
          "text": [
            "   Manufacturer    Model     Type\n",
            "0         Acura  Integra    Small\n",
            "20     Chrysler  LeBaron  Compact\n",
            "40        Honda  Prelude   Sporty\n",
            "60      Mercury   Cougar  Midsize\n",
            "80       Subaru   Loyale    Small\n"
          ]
        }
      ]
    },
    {
      "cell_type": "code",
      "source": [
        "import pandas as pd\n",
        "\n",
        "df = pd.read_csv('https://raw.githubusercontent.com/selva86/datasets/master/Cars93_miss.csv')\n",
        "\n",
        "df['Min.Price'].fillna(df['Min.Price'].mean(), inplace=True)\n",
        "df['Max.Price'].fillna(df['Max.Price'].mean(), inplace=True)\n",
        "\n",
        "print (df)"
      ],
      "metadata": {
        "id": "O9TpEPNnPY8i",
        "outputId": "2104a1b3-24af-4dd9-e117-9b2c1d67ec67",
        "colab": {
          "base_uri": "https://localhost:8080/"
        }
      },
      "execution_count": 28,
      "outputs": [
        {
          "output_type": "stream",
          "name": "stdout",
          "text": [
            "   Manufacturer    Model     Type  Min.Price  Price  Max.Price  MPG.city  \\\n",
            "0         Acura  Integra    Small  12.900000   15.9  18.800000      25.0   \n",
            "1           NaN   Legend  Midsize  29.200000   33.9  38.700000      18.0   \n",
            "2          Audi       90  Compact  25.900000   29.1  32.300000      20.0   \n",
            "3          Audi      100  Midsize  17.118605   37.7  44.600000      19.0   \n",
            "4           BMW     535i  Midsize  17.118605   30.0  21.459091      22.0   \n",
            "..          ...      ...      ...        ...    ...        ...       ...   \n",
            "88   Volkswagen  Eurovan      Van  16.600000   19.7  22.700000      17.0   \n",
            "89   Volkswagen   Passat  Compact  17.600000   20.0  22.400000      21.0   \n",
            "90   Volkswagen  Corrado   Sporty  22.900000   23.3  23.700000      18.0   \n",
            "91        Volvo      240  Compact  21.800000   22.7  23.500000      21.0   \n",
            "92          NaN      850  Midsize  24.800000   26.7  28.500000      20.0   \n",
            "\n",
            "    MPG.highway             AirBags DriveTrain  ... Passengers  Length  \\\n",
            "0          31.0                None      Front  ...        5.0   177.0   \n",
            "1          25.0  Driver & Passenger      Front  ...        5.0   195.0   \n",
            "2          26.0         Driver only      Front  ...        5.0   180.0   \n",
            "3          26.0  Driver & Passenger        NaN  ...        6.0   193.0   \n",
            "4          30.0                 NaN       Rear  ...        4.0   186.0   \n",
            "..          ...                 ...        ...  ...        ...     ...   \n",
            "88         21.0                None      Front  ...        7.0   187.0   \n",
            "89         30.0                None      Front  ...        5.0   180.0   \n",
            "90         25.0                None      Front  ...        4.0   159.0   \n",
            "91         28.0         Driver only       Rear  ...        5.0   190.0   \n",
            "92         28.0  Driver & Passenger      Front  ...        5.0   184.0   \n",
            "\n",
            "    Wheelbase  Width  Turn.circle Rear.seat.room  Luggage.room  Weight  \\\n",
            "0       102.0   68.0         37.0           26.5           NaN  2705.0   \n",
            "1       115.0   71.0         38.0           30.0          15.0  3560.0   \n",
            "2       102.0   67.0         37.0           28.0          14.0  3375.0   \n",
            "3       106.0    NaN         37.0           31.0          17.0  3405.0   \n",
            "4       109.0   69.0         39.0           27.0          13.0  3640.0   \n",
            "..        ...    ...          ...            ...           ...     ...   \n",
            "88      115.0   72.0         38.0           34.0           NaN  3960.0   \n",
            "89      103.0   67.0         35.0           31.5          14.0  2985.0   \n",
            "90       97.0   66.0         36.0           26.0          15.0  2810.0   \n",
            "91      104.0   67.0         37.0           29.5          14.0  2985.0   \n",
            "92      105.0   69.0         38.0           30.0          15.0  3245.0   \n",
            "\n",
            "     Origin                Make  \n",
            "0   non-USA       Acura Integra  \n",
            "1   non-USA        Acura Legend  \n",
            "2   non-USA             Audi 90  \n",
            "3   non-USA            Audi 100  \n",
            "4   non-USA            BMW 535i  \n",
            "..      ...                 ...  \n",
            "88      NaN  Volkswagen Eurovan  \n",
            "89  non-USA   Volkswagen Passat  \n",
            "90  non-USA  Volkswagen Corrado  \n",
            "91  non-USA           Volvo 240  \n",
            "92  non-USA           Volvo 850  \n",
            "\n",
            "[93 rows x 27 columns]\n"
          ]
        }
      ]
    },
    {
      "cell_type": "code",
      "source": [
        "import pandas as pd\n",
        "import numpy as np\n",
        "\n",
        "df = pd.DataFrame(np.random.randint(10, 40, 60).reshape(-1, 4))\n",
        "\n",
        "sum_gr_100 = df[df.sum(axis=1) > 100]\n",
        "\n",
        "print(sum_gr_100)\n"
      ],
      "metadata": {
        "id": "fF2f0R9tRMAi",
        "outputId": "a769386f-bbbf-44cb-d3e2-6141146ad50c",
        "colab": {
          "base_uri": "https://localhost:8080/"
        }
      },
      "execution_count": 30,
      "outputs": [
        {
          "output_type": "stream",
          "name": "stdout",
          "text": [
            "     0   1   2   3\n",
            "5   29  34  29  13\n",
            "6   25  27  21  30\n",
            "7   18  36  39  35\n",
            "8   36  19  28  38\n",
            "9   23  35  34  36\n",
            "10  32  30  37  19\n",
            "11  32  27  39  24\n"
          ]
        }
      ]
    }
  ]
}