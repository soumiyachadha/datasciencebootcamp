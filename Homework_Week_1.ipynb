{
  "nbformat": 4,
  "nbformat_minor": 0,
  "metadata": {
    "colab": {
      "provenance": []
    },
    "kernelspec": {
      "name": "python3",
      "display_name": "Python 3"
    },
    "language_info": {
      "name": "python"
    }
  },
  "cells": [
    {
      "cell_type": "code",
      "source": [
        "Write a function count_vowels(word) that takes a word as an argument and returns the number of vowels in the word"
      ],
      "metadata": {
        "id": "BuztdApHX_e0"
      },
      "execution_count": null,
      "outputs": []
    },
    {
      "cell_type": "code",
      "execution_count": 12,
      "metadata": {
        "colab": {
          "base_uri": "https://localhost:8080/"
        },
        "id": "oNSjtTeyVsKS",
        "outputId": "cad5b19e-1d9e-4957-f2d2-391e3b4bd017"
      },
      "outputs": [
        {
          "output_type": "stream",
          "name": "stdout",
          "text": [
            "the number of vowels in Soumiya is: 4\n"
          ]
        }
      ],
      "source": [
        "def count_vowels(word):\n",
        "  vowels = 'aeiouAEIOU'\n",
        "  count = 0\n",
        "  for char in word:\n",
        "    if char in vowels:\n",
        "      count += 1\n",
        "\n",
        "  return count\n",
        "\n",
        "word = \"Soumiya\"\n",
        "print(f\"the number of vowels in {word} is: {count_vowels(word)}\")"
      ]
    },
    {
      "cell_type": "markdown",
      "source": [
        "Iterate through the following list of animals and print each one in all caps.\n",
        "animals=['tiger', 'elephant', 'monkey', 'zebra', 'panther']"
      ],
      "metadata": {
        "id": "ZL1z8Wu7YGkz"
      }
    },
    {
      "cell_type": "code",
      "source": [
        "animals = ['tiger', 'elephant', 'monkey', 'zebra', 'panther']\n",
        "\n",
        "for animal in animals:\n",
        "  print(animal.upper())"
      ],
      "metadata": {
        "colab": {
          "base_uri": "https://localhost:8080/"
        },
        "id": "jT70_V4eYGSa",
        "outputId": "e2e7693c-30ce-4cbf-8846-7c9ae7b0d6d3"
      },
      "execution_count": 13,
      "outputs": [
        {
          "output_type": "stream",
          "name": "stdout",
          "text": [
            "TIGER\n",
            "ELEPHANT\n",
            "MONKEY\n",
            "ZEBRA\n",
            "PANTHER\n"
          ]
        }
      ]
    },
    {
      "cell_type": "markdown",
      "source": [
        "Write a program that iterates from 1 to 20, printing each number and whether it's odd or even."
      ],
      "metadata": {
        "id": "VY_cpxquYodx"
      }
    },
    {
      "cell_type": "code",
      "source": [
        "def even_odd(num):\n",
        "  for number in range(1,num+1):\n",
        "    if number%2==0:\n",
        "     print(f\"{number} is even\")\n",
        "    else:\n",
        "     print(f\"{number} is odd\")\n",
        "  num = num + 1\n",
        "\n",
        "num = 20\n",
        "even_odd(num)"
      ],
      "metadata": {
        "colab": {
          "base_uri": "https://localhost:8080/"
        },
        "id": "Td1QNejZYrJP",
        "outputId": "a7d2ec37-767b-434b-b02e-67b824e38dc3"
      },
      "execution_count": 27,
      "outputs": [
        {
          "output_type": "stream",
          "name": "stdout",
          "text": [
            "1 is odd\n",
            "2 is even\n",
            "3 is odd\n",
            "4 is even\n",
            "5 is odd\n",
            "6 is even\n",
            "7 is odd\n",
            "8 is even\n",
            "9 is odd\n",
            "10 is even\n",
            "11 is odd\n",
            "12 is even\n",
            "13 is odd\n",
            "14 is even\n",
            "15 is odd\n",
            "16 is even\n",
            "17 is odd\n",
            "18 is even\n",
            "19 is odd\n",
            "20 is even\n"
          ]
        }
      ]
    },
    {
      "cell_type": "markdown",
      "source": [
        "Write a function sum_of_integers(a, b) that takes two integers as input from the user and returns their sum."
      ],
      "metadata": {
        "id": "4qYSV3K0aLB5"
      }
    },
    {
      "cell_type": "code",
      "source": [
        "def sum_of_integers(a, b):\n",
        "  return a + b\n",
        "\n",
        "a = int(input(\"Enter the first integer: \"))\n",
        "b = int(input(\"Enter the second integer: \"))\n",
        "\n",
        "sum_of_integers(a,b)\n",
        "print(sum_of_integers(a, b))"
      ],
      "metadata": {
        "colab": {
          "base_uri": "https://localhost:8080/"
        },
        "id": "VDR020zNaOZe",
        "outputId": "c95eb790-743c-405d-b525-d011851e5768"
      },
      "execution_count": 30,
      "outputs": [
        {
          "output_type": "stream",
          "name": "stdout",
          "text": [
            "Enter the first integer: 10\n",
            "Enter the second integer: 25\n",
            "35\n"
          ]
        }
      ]
    },
    {
      "cell_type": "markdown",
      "source": [
        "1.Checking Book Ratings\n",
        "\n",
        "Write a function check_rating(book) that takes a book dictionary and returns True if the rating is greater than 4.5, and False otherwise. Additionally, modify the function to return 'low' if the rating is less than or equal to 4.0, 'medium' if it's greater than 4.0 but less than or equal to 4.5, and 'high' if it's greater than 4.5.\n",
        "\n"
      ],
      "metadata": {
        "id": "_nUv-xrkcMsS"
      }
    },
    {
      "cell_type": "code",
      "source": [
        "def check_rating(book):\n",
        "\n",
        "  rating = book['rating']\n",
        "  rating_high = rating > 4.5\n",
        "\n",
        "  if rating > 4.5:\n",
        "      return rating_high,'high'\n",
        "  elif rating > 4.0:\n",
        "      return rating_high,'medium'\n",
        "  else:\n",
        "      return rating_high,'low'\n",
        "\n",
        "books = [\n",
        "    {\n",
        "        \"title\": \"The Great Gatsby\",\n",
        "        \"author\": \"F. Scott Fitzgerald\",\n",
        "        \"genre\": \"Fiction\",\n",
        "        \"rating\": 4.2\n",
        "    },\n",
        "    {\n",
        "        \"title\": \"To Kill a Mockingbird\",\n",
        "        \"author\": \"Harper Lee\",\n",
        "        \"genre\": \"Classic\",\n",
        "        \"rating\": 4.5\n",
        "    },\n",
        "    {\n",
        "        \"title\": \"1984\",\n",
        "        \"author\": \"George Orwell\",\n",
        "        \"genre\": \"Dystopian\",\n",
        "        \"rating\": 4.8\n",
        "    },\n",
        "    {\n",
        "        \"title\": \"Pride and Prejudice\",\n",
        "        \"author\": \"Jane Austen\",\n",
        "        \"genre\": \"Romance\",\n",
        "        \"rating\": 4.7\n",
        "    },\n",
        "    {\n",
        "        \"title\": \"Harry Potter and the Sorcerer's Stone\",\n",
        "        \"author\": \"J.K. Rowling\",\n",
        "        \"genre\": \"Fantasy\",\n",
        "        \"rating\": 4.9\n",
        "    },\n",
        "    {\n",
        "        \"title\": \"The Catcher in the Rye\",\n",
        "        \"author\": \"J.D. Salinger\",\n",
        "        \"genre\": \"Coming-of-age\",\n",
        "        \"rating\": 4.1\n",
        "    }\n",
        "]\n",
        "\n",
        "for book in books:\n",
        "    rating_category = check_rating(book)\n",
        "    print(f\"{book['title']} by {book['author']} is rated as {rating_category}.\")\n",
        "\n",
        "\n"
      ],
      "metadata": {
        "colab": {
          "base_uri": "https://localhost:8080/"
        },
        "id": "79a3W4HacTIj",
        "outputId": "c5d4289e-dd2c-4101-946e-d898110736e1"
      },
      "execution_count": 39,
      "outputs": [
        {
          "output_type": "stream",
          "name": "stdout",
          "text": [
            "The Great Gatsby by F. Scott Fitzgerald is rated as (False, 'medium').\n",
            "To Kill a Mockingbird by Harper Lee is rated as (False, 'medium').\n",
            "1984 by George Orwell is rated as (True, 'high').\n",
            "Pride and Prejudice by Jane Austen is rated as (True, 'high').\n",
            "Harry Potter and the Sorcerer's Stone by J.K. Rowling is rated as (True, 'high').\n",
            "The Catcher in the Rye by J.D. Salinger is rated as (False, 'medium').\n"
          ]
        }
      ]
    },
    {
      "cell_type": "markdown",
      "source": [
        "Write a function average_rating_by_genre(books, genre) that accepts the list of books and a genre, and returns the average rating for that genre. If the genre does not exist in the list, return an appropriate message."
      ],
      "metadata": {
        "id": "fEXXiz_UekeF"
      }
    },
    {
      "cell_type": "code",
      "source": [
        "def average_rating_by_genre(books, genre):\n",
        "\n",
        "  sum_of_ratings = 0\n",
        "  count = 0\n",
        "\n",
        "  for book in books:\n",
        "    if book['genre'] == genre:\n",
        "      sum_of_ratings += book['rating']\n",
        "      count += 1\n",
        "\n",
        "  if count > 0:\n",
        "    return sum_of_ratings / count\n",
        "  else:\n",
        "     return None\n",
        "\n",
        "books = [\n",
        "    {\n",
        "        \"title\": \"The Great Gatsby\",\n",
        "        \"author\": \"F. Scott Fitzgerald\",\n",
        "        \"genre\": \"Fiction\",\n",
        "        \"rating\": 4.2\n",
        "    },\n",
        "    {\n",
        "        \"title\": \"To Kill a Mockingbird\",\n",
        "        \"author\": \"Harper Lee\",\n",
        "        \"genre\": \"Classic\",\n",
        "        \"rating\": 4.5\n",
        "    },\n",
        "    {\n",
        "        \"title\": \"1984\",\n",
        "        \"author\": \"George Orwell\",\n",
        "        \"genre\": \"Dystopian\",\n",
        "        \"rating\": 4.8\n",
        "    },\n",
        "    {\n",
        "        \"title\": \"Pride and Prejudice\",\n",
        "        \"author\": \"Jane Austen\",\n",
        "        \"genre\": \"Romance\",\n",
        "        \"rating\": 4.7\n",
        "    },\n",
        "    {\n",
        "        \"title\": \"Harry Potter and the Sorcerer's Stone\",\n",
        "        \"author\": \"J.K. Rowling\",\n",
        "        \"genre\": \"Fantasy\",\n",
        "        \"rating\": 4.9\n",
        "    },\n",
        "    {\n",
        "        \"title\": \"The Catcher in the Rye\",\n",
        "        \"author\": \"J.D. Salinger\",\n",
        "        \"genre\": \"Coming-of-age\",\n",
        "        \"rating\": 4.1\n",
        "    }\n",
        "]\n",
        "\n",
        "genre = \"Fiction\"\n",
        "average_rating = average_rating_by_genre(books, genre)\n",
        "if average_rating is not None:\n",
        "    print(f\"The average rating for {genre} books is: {average_rating:.1f}\")\n",
        "else:\n",
        "    print(f\"No books found for the genre: {genre}\")\n",
        "\n",
        "\n",
        "\n",
        "\n",
        "\n",
        ""
      ],
      "metadata": {
        "colab": {
          "base_uri": "https://localhost:8080/"
        },
        "id": "fABBxws0ek-R",
        "outputId": "fe43761f-31ce-4931-ae86-e7abe0808681"
      },
      "execution_count": 44,
      "outputs": [
        {
          "output_type": "stream",
          "name": "stdout",
          "text": [
            "The average rating for Fiction books is: 4.2\n"
          ]
        }
      ]
    },
    {
      "cell_type": "markdown",
      "source": [
        "Books by Author\n",
        "\n",
        "Write a function books_by_author(books, author) that accepts the book list and an author's name, and returns a list of all the books written by that author. If the author does not exist, raise a custom error."
      ],
      "metadata": {
        "id": "N6NmWdq5gHHF"
      }
    },
    {
      "cell_type": "code",
      "source": [
        "def books_by_author(books, author):\n",
        "  no_of_books = 0\n",
        "\n",
        "  for book in books:\n",
        "    if book['author'] == author:\n",
        "     no_of_books +=1\n",
        "     print(f\"{book['title']} is by {book['author']} \")\n",
        "  return no_of_books\n",
        "\n",
        "books = [\n",
        "    {\n",
        "        \"title\": \"The Great Gatsby\",\n",
        "        \"author\": \"F. Scott Fitzgerald\",\n",
        "        \"genre\": \"Fiction\",\n",
        "        \"rating\": 4.2\n",
        "    },\n",
        "    {\n",
        "        \"title\": \"To Kill a Mockingbird\",\n",
        "        \"author\": \"Harper Lee\",\n",
        "        \"genre\": \"Classic\",\n",
        "        \"rating\": 4.5\n",
        "    },\n",
        "    {\n",
        "        \"title\": \"1984\",\n",
        "        \"author\": \"George Orwell\",\n",
        "        \"genre\": \"Dystopian\",\n",
        "        \"rating\": 4.8\n",
        "    },\n",
        "    {\n",
        "        \"title\": \"Pride and Prejudice\",\n",
        "        \"author\": \"Jane Austen\",\n",
        "        \"genre\": \"Romance\",\n",
        "        \"rating\": 4.7\n",
        "    },\n",
        "    {\n",
        "        \"title\": \"Harry Potter and the Sorcerer's Stone\",\n",
        "        \"author\": \"J.K. Rowling\",\n",
        "        \"genre\": \"Fantasy\",\n",
        "        \"rating\": 4.9\n",
        "    },\n",
        "    {\n",
        "        \"title\": \"The Catcher in the Rye\",\n",
        "        \"author\": \"J.D. Salinger\",\n",
        "        \"genre\": \"Coming-of-age\",\n",
        "        \"rating\": 4.1\n",
        "    },\n",
        "    {\n",
        "        \"title\": \"Emma\",\n",
        "        \"author\": \"Jane Austen\",\n",
        "        \"genre\": \"Romance\",\n",
        "        \"rating\": 4.9\n",
        "    },\n",
        "]\n",
        "\n",
        "author = \"Jane Austen\"\n",
        "book = books_by_author(books, author)\n",
        "if book is None:\n",
        "  print(f\"No books found by this author: {genre}\")"
      ],
      "metadata": {
        "colab": {
          "base_uri": "https://localhost:8080/"
        },
        "id": "Ji6-hTjqgHtk",
        "outputId": "1db7312f-1f98-44ed-fe9b-e9d59e553670"
      },
      "execution_count": 53,
      "outputs": [
        {
          "output_type": "stream",
          "name": "stdout",
          "text": [
            "Pride and Prejudice is by Jane Austen \n",
            "Emma is by Jane Austen \n"
          ]
        }
      ]
    }
  ]
}